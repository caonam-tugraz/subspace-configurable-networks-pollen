{
 "cells": [
  {
   "cell_type": "code",
   "execution_count": 1,
   "metadata": {
    "collapsed": false,
    "jupyter": {
     "outputs_hidden": false
    },
    "pycharm": {
     "is_executing": true
    }
   },
   "outputs": [],
   "source": [
    "import os\n",
    "import torch\n",
    "from torch import nn\n",
    "import numpy as np\n",
    "import random\n",
    "from dataset import ModelnetDataset\n",
    "from pathlib import Path\n",
    "from torch.utils.data import DataLoader\n",
    "from tqdm import trange, tqdm\n",
    "\n",
    "\n",
    "from util import setup_seed, train, test, train_HHN, test_HHN, train_one4one, count_parameters, save_checkpoint\n",
    "from model import One4All, HyperNetwork\n",
    "from render import PointcloudRender\n",
    "\n",
    "from torch.utils.tensorboard import SummaryWriter"
   ]
  },
  {
   "cell_type": "code",
   "execution_count": null,
   "metadata": {},
   "outputs": [],
   "source": [
    "setup_seed(666)\n",
    "device_for_dataset = \"cuda:3\" if torch.cuda.is_available() else \"cpu\"\n"
   ]
  },
  {
   "cell_type": "code",
   "execution_count": null,
   "metadata": {
    "collapsed": false,
    "jupyter": {
     "outputs_hidden": false
    }
   },
   "outputs": [],
   "source": [
    "path = Path(\"./data/ModelNet10\")\n",
    "train_ds = ModelnetDataset(path, folder=\"train\", device=device_for_dataset) # Just put dataset in mem or GPU\n",
    "test_ds = ModelnetDataset(path, folder=\"test\", device=device_for_dataset) # Just put dataset in mem or GPU\n",
    "classes = {i: cat for cat, i in train_ds.classes.items()}\n",
    "\n",
    "print('Train dataset size: ', len(train_ds))\n",
    "print('Test dataset size: ', len(test_ds))\n",
    "print('Number of classes: ', len(train_ds.classes))\n",
    "print('Class: ', classes[train_ds[11]['category']])"
   ]
  },
  {
   "cell_type": "code",
   "execution_count": null,
   "metadata": {},
   "outputs": [],
   "source": [
    "from collections import Counter\n",
    "print(dict(Counter(sample['category'] for sample in train_ds.files)))\n",
    "\n",
    "print(dict(Counter(sample['category'] for sample in test_ds.files)))\n",
    "\n"
   ]
  },
  {
   "cell_type": "code",
   "execution_count": null,
   "metadata": {},
   "outputs": [],
   "source": [
    "batch_size = 64 #  \n",
    "epochs = 100 #\n",
    "best_acc1 = 0\n",
    "start_epoch = 0\n"
   ]
  },
  {
   "cell_type": "code",
   "execution_count": null,
   "metadata": {
    "collapsed": false,
    "jupyter": {
     "outputs_hidden": false
    }
   },
   "outputs": [],
   "source": [
    "train_loader = DataLoader(dataset=train_ds, batch_size=batch_size, shuffle=True)\n",
    "test_loader = DataLoader(dataset=test_ds, batch_size=batch_size, shuffle=True)\n"
   ]
  },
  {
   "cell_type": "code",
   "execution_count": null,
   "metadata": {},
   "outputs": [],
   "source": [
    "gpu_computation = \"cuda:0\" if torch.cuda.is_available() else \"cpu\"\n",
    "\n",
    "pr = PointcloudRender(              \n",
    "                 img_size=128,\n",
    "                 radius=0.0045,\n",
    "                 points_per_pixel=40)\n",
    "\n",
    "\n"
   ]
  },
  {
   "cell_type": "code",
   "execution_count": null,
   "metadata": {},
   "outputs": [],
   "source": []
  },
  {
   "cell_type": "code",
   "execution_count": null,
   "metadata": {
    "collapsed": false,
    "jupyter": {
     "outputs_hidden": false
    }
   },
   "outputs": [],
   "source": [
    "torch.cuda.empty_cache()\n",
    "\n",
    "\n",
    "# angles = torch.randint(-180, 180, (3,))/180*torch.pi\n",
    "\n",
    "test_acc_list = []\n",
    "degrees = []\n",
    "# Average 216 one-for-one models\n",
    "# for x in range(-180, 181, 72):\n",
    "# \tfor y in range(-180, 181, 72):\n",
    "# \t\tfor z in range(-180, 181, 72):\n",
    "# \t\t\tangles = torch.tensor([x,y,z])/180*torch.pi\n",
    "\n",
    "# Average 30 one-for-one models\n",
    "for i in tqdm(range(30), desc=\"Training one4one\"):\n",
    "    angles = torch.randint(-180, 180, (3,))\n",
    "    x,y,z = angles\n",
    "    print(f'Angles: {angles}')\n",
    "    angles = angles/180*torch.pi\n",
    "    \n",
    "    writer = SummaryWriter(f'tf-logs/one4one/01-11/{x}_{y}_{z}')\n",
    "\n",
    "    model = One4All() \n",
    "    model = model.to(gpu_computation)\n",
    "    # print(f'Num of model parameter: {count_parameters(model)}')\n",
    "\n",
    "    loss_fn = nn.CrossEntropyLoss()\n",
    "    optimizer = torch.optim.Adam(model.parameters(), lr=0.003, weight_decay = 1e-6)\n",
    "    lr_scheduler = torch.optim.lr_scheduler.CosineAnnealingLR(optimizer, T_max=epochs, eta_min=5e-6)\n",
    "\n",
    "    for t in range(start_epoch, epochs):\n",
    "        # print(60*\"=\"+f\"\\n Epoch: {t + 1} \\n\"+60*\"=\")\n",
    "\n",
    "        train_acc, train_loss= train_one4one(train_loader, model, loss_fn, optimizer, t, pr, device=gpu_computation, angles=angles, verbose=False)\n",
    "        writer.add_scalar(\"Loss/train\", train_loss, t)\n",
    "        writer.add_scalar(\"Accuracy/train\", train_acc, t)\n",
    "        test_acc, test_loss = test(test_loader, model, loss_fn, pr, device=gpu_computation, angles=angles, verbose=False)\n",
    "\n",
    "        if (t+1)%60 == 0:\n",
    "            test_acc, test_loss = test(test_loader, model, loss_fn, pr, device=gpu_computation, angles=angles, verbose=False)\n",
    "\n",
    "        is_best = test_acc > best_acc1\n",
    "        best_acc1 = max(test_acc, best_acc1)\n",
    "        \n",
    "        if (t+1)%60 == 0:\n",
    "\n",
    "\n",
    "            save_checkpoint({\n",
    "            'epoch': t,\n",
    "            'state_dict': model.state_dict(),\n",
    "            'best_acc1': best_acc1,\n",
    "            'optimizer': optimizer.state_dict(),\n",
    "            }, is_best,\n",
    "            filename= f'checkpoint/one4one/01-11/E{t}-{x}-{y}-{z}-one4onecheckpoint.pth.tar',\n",
    "            best_filename = f'checkpoint/one4one/01-11/best-{x}-{y}-{z}-one4oneheckpoint.pth.tar'\n",
    "            )\n",
    "            test_acc_list.append(test_acc)\n",
    "            degrees.append(angles)\n",
    "        \n",
    "        writer.flush()\n",
    "        lr_scheduler.step()\n",
    "\n",
    "    writer.close()\n",
    "test_acc_list = np.array(test_acc_list)\n",
    "np.save(\"checkpoint/one4one/01-11/average_acc.npy\", test_acc_list)\n",
    "np.save(\"checkpoint/one4one/01-11/angles.npy\", angles)\n",
    "\n",
    "print(f\"{test_acc_list.mean()}\")\n"
   ]
  },
  {
   "cell_type": "code",
   "execution_count": null,
   "metadata": {},
   "outputs": [],
   "source": [
    "print(np.load(\"checkpoint/one4one/01-11/average_acc.npy\").mean())"
   ]
  },
  {
   "cell_type": "code",
   "execution_count": 3,
   "metadata": {},
   "outputs": [
    {
     "name": "stdout",
     "output_type": "stream",
     "text": [
      "0.8062408228715261\n"
     ]
    }
   ],
   "source": [
    "print(np.load(\"accuracy_result_npy/LeNet5/one4one_acc.npy\").mean())"
   ]
  }
 ],
 "metadata": {
  "kernelspec": {
   "display_name": "HHN",
   "language": "python",
   "name": "python3"
  },
  "language_info": {
   "codemirror_mode": {
    "name": "ipython",
    "version": 3
   },
   "file_extension": ".py",
   "mimetype": "text/x-python",
   "name": "python",
   "nbconvert_exporter": "python",
   "pygments_lexer": "ipython3",
   "version": "3.8.15 (default, Nov 24 2022, 15:19:38) \n[GCC 11.2.0]"
  },
  "vscode": {
   "interpreter": {
    "hash": "b0c78458555a2a34546735ca8476779cf1d34009af006dd49aabee2caae8b412"
   }
  }
 },
 "nbformat": 4,
 "nbformat_minor": 4
}
