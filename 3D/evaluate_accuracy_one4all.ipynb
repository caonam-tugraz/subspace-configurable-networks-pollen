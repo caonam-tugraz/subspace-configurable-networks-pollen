{
 "cells": [
  {
   "cell_type": "code",
   "execution_count": 1,
   "metadata": {
    "collapsed": false,
    "jupyter": {
     "outputs_hidden": false
    },
    "pycharm": {
     "is_executing": true
    }
   },
   "outputs": [],
   "source": [
    "import os\n",
    "import torch\n",
    "from torch import nn\n",
    "import numpy as np\n",
    "import random\n",
    "from dataset import ModelnetDataset\n",
    "from pathlib import Path\n",
    "from torch.utils.data import DataLoader\n",
    "\n",
    "\n",
    "from util import setup_seed, train, test, train_HHN, test_HHN, train_one4one, transform_angles, count_parameters, save_checkpoint\n",
    "from model import One4All, HyperNetwork\n",
    "from render import PointcloudRender\n",
    "from tqdm import tqdm\n",
    "\n",
    "from pytorch3d.structures import Meshes, Pointclouds\n",
    "from pytorch3d.vis.plotly_vis import plot_scene\n",
    "import plotly.graph_objects as go\n",
    "\n"
   ]
  },
  {
   "cell_type": "code",
   "execution_count": 2,
   "metadata": {},
   "outputs": [],
   "source": [
    "setup_seed(666)\n",
    "device_for_dataset = \"cuda:0\" if torch.cuda.is_available() else \"cpu\""
   ]
  },
  {
   "cell_type": "code",
   "execution_count": 3,
   "metadata": {
    "collapsed": false,
    "jupyter": {
     "outputs_hidden": false
    }
   },
   "outputs": [
    {
     "name": "stdout",
     "output_type": "stream",
     "text": [
      "Preocessing test data in_mem = True and infor: Default infor\n"
     ]
    },
    {
     "name": "stderr",
     "output_type": "stream",
     "text": [
      "Prepare test dataset categories: 100%|██████████| 10/10 [00:06<00:00,  1.53it/s]"
     ]
    },
    {
     "name": "stdout",
     "output_type": "stream",
     "text": [
      "Test dataset size:  908\n",
      "Number of classes:  10\n"
     ]
    },
    {
     "name": "stderr",
     "output_type": "stream",
     "text": [
      "\n"
     ]
    }
   ],
   "source": [
    "path = Path(\"./data/ModelNet10\")\n",
    "test_ds = ModelnetDataset(path, folder=\"test\", device=device_for_dataset) # Just put dataset in mem or GPU\n",
    "classes = {i: cat for cat, i in test_ds.classes.items()}\n",
    "\n",
    "print('Test dataset size: ', len(test_ds))\n",
    "print('Number of classes: ', len(test_ds.classes))"
   ]
  },
  {
   "cell_type": "code",
   "execution_count": 4,
   "metadata": {},
   "outputs": [
    {
     "name": "stdout",
     "output_type": "stream",
     "text": [
      "{'bathtub': 50, 'bed': 100, 'chair': 100, 'desk': 86, 'dresser': 86, 'monitor': 100, 'night_stand': 86, 'sofa': 100, 'table': 100, 'toilet': 100}\n"
     ]
    }
   ],
   "source": [
    "from collections import Counter\n",
    "# print(dict(Counter(sample['category'] for sample in train_ds.files)))\n",
    "\n",
    "print(dict(Counter(sample['category'] for sample in test_ds.files)))\n"
   ]
  },
  {
   "cell_type": "code",
   "execution_count": 6,
   "metadata": {},
   "outputs": [],
   "source": [
    "batch_size = 64"
   ]
  },
  {
   "cell_type": "code",
   "execution_count": 7,
   "metadata": {
    "collapsed": false,
    "jupyter": {
     "outputs_hidden": false
    }
   },
   "outputs": [
    {
     "ename": "",
     "evalue": "",
     "output_type": "error",
     "traceback": [
      "\u001b[1;31mThe Kernel crashed while executing code in the the current cell or a previous cell. Please review the code in the cell(s) to identify a possible cause of the failure. Click <a href='https://aka.ms/vscodeJupyterKernelCrash'>here</a> for more info. View Jupyter <a href='command:jupyter.viewOutput'>log</a> for further details."
     ]
    }
   ],
   "source": [
    "test_loader = DataLoader(dataset=test_ds, batch_size=batch_size, shuffle=True)"
   ]
  },
  {
   "cell_type": "code",
   "execution_count": 7,
   "metadata": {},
   "outputs": [
    {
     "name": "stdout",
     "output_type": "stream",
     "text": [
      "Num of model parameter: 138562\n"
     ]
    }
   ],
   "source": [
    "resume = './weight/LeNet5/E5950-bs256_lr0.002_6k-one4allcheckpoint.pth.tar'\n",
    "\n",
    "gpu_computation = device_for_dataset\n",
    "model = One4All() \n",
    "model = model.to(gpu_computation)\n",
    "print(f'Num of model parameter: {count_parameters(model)}')\n",
    "\n",
    "pr = PointcloudRender(              \n",
    "                 img_size=128,\n",
    "                 radius=0.0045,\n",
    "                 points_per_pixel=40,\n",
    "                 num_points = 4096)\n",
    "\n",
    "checkpoint = torch.load(resume, map_location= gpu_computation)\n",
    "model.load_state_dict(checkpoint['state_dict'])\n",
    "\n",
    "loss_fn = nn.CrossEntropyLoss()\n"
   ]
  },
  {
   "cell_type": "code",
   "execution_count": 8,
   "metadata": {},
   "outputs": [
    {
     "name": "stderr",
     "output_type": "stream",
     "text": [
      "Test One4all: 100%|██████████| 13/13 [52:23<00:00, 241.80s/it, Angles=[180, 180, 180], accuracy=0.485]  \n"
     ]
    }
   ],
   "source": [
    "\n",
    "torch.cuda.empty_cache()\n",
    "\n",
    "step = 30\n",
    "acc = []\n",
    "with tqdm(range(-180, 181, step), position=0) as t:\n",
    "    for x in t:\n",
    "        for y in tqdm(range(-180, 181, step), disable=True):\n",
    "            for z in tqdm(range(-180, 181, step), disable=True):\n",
    "                t.set_description('Test One4all')\n",
    "                \n",
    "                angles = torch.tensor([x,y,z])/180*torch.pi\n",
    "                test_acc, test_loss = test(test_loader, model, loss_fn, pr, device=gpu_computation, angles=angles, verbose=False)\n",
    "                acc.append(test_acc)\n",
    "                t.set_postfix(Angles = [x,y,z],accuracy=test_acc) \n",
    "\n",
    "np.save('./one4all_acc.npy', np.array(acc))\n"
   ]
  },
  {
   "cell_type": "code",
   "execution_count": 9,
   "metadata": {},
   "outputs": [
    {
     "name": "stdout",
     "output_type": "stream",
     "text": [
      "0.5892997869427333\n"
     ]
    }
   ],
   "source": [
    "one4all_acc = np.load('./accuracy_result_npy/one4all_acc.npy').mean()\n",
    "print(f'{one4all_acc}')"
   ]
  }
 ],
 "metadata": {
  "kernelspec": {
   "display_name": "HHN",
   "language": "python",
   "name": "python3"
  },
  "language_info": {
   "codemirror_mode": {
    "name": "ipython",
    "version": 3
   },
   "file_extension": ".py",
   "mimetype": "text/x-python",
   "name": "python",
   "nbconvert_exporter": "python",
   "pygments_lexer": "ipython3",
   "version": "3.8.15 (default, Nov 24 2022, 15:19:38) \n[GCC 11.2.0]"
  },
  "vscode": {
   "interpreter": {
    "hash": "b0c78458555a2a34546735ca8476779cf1d34009af006dd49aabee2caae8b412"
   }
  }
 },
 "nbformat": 4,
 "nbformat_minor": 4
}
