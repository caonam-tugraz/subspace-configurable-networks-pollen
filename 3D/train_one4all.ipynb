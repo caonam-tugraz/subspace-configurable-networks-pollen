{
 "cells": [
  {
   "cell_type": "code",
   "execution_count": 1,
   "metadata": {
    "collapsed": false,
    "jupyter": {
     "outputs_hidden": false
    },
    "pycharm": {
     "is_executing": true
    }
   },
   "outputs": [],
   "source": [
    "import os\n",
    "import torch\n",
    "from torch import nn\n",
    "import numpy as np\n",
    "import random\n",
    "from dataset import ModelnetDataset\n",
    "from pathlib import Path\n",
    "from torch.utils.data import DataLoader\n",
    "\n",
    "\n",
    "from util import setup_seed, train, test, train_HHN, test_HHN, train_one4one, count_parameters, save_checkpoint\n",
    "from model import One4All, HyperNetwork\n",
    "from render import PointcloudRender\n",
    "\n",
    "from torch.utils.tensorboard import SummaryWriter"
   ]
  },
  {
   "cell_type": "code",
   "execution_count": 3,
   "metadata": {},
   "outputs": [],
   "source": [
    "setup_seed(666)\n",
    "device_for_dataset = \"cuda:0\" if torch.cuda.is_available() else \"cpu\"\n",
    "writer = SummaryWriter('tf-logs/one4all-12-03')\n"
   ]
  },
  {
   "cell_type": "code",
   "execution_count": 4,
   "metadata": {
    "collapsed": false,
    "jupyter": {
     "outputs_hidden": false
    }
   },
   "outputs": [
    {
     "name": "stdout",
     "output_type": "stream",
     "text": [
      "Preocessing train data in_mem = True and infor: Default infor\n"
     ]
    },
    {
     "data": {
      "application/vnd.jupyter.widget-view+json": {
       "model_id": "7ab5fdacf0254fe3a039f7e28bb4df42",
       "version_major": 2,
       "version_minor": 0
      },
      "text/plain": [
       "Prepare train dataset categories:   0%|          | 0/10 [00:00<?, ?it/s]"
      ]
     },
     "metadata": {},
     "output_type": "display_data"
    },
    {
     "name": "stdout",
     "output_type": "stream",
     "text": [
      "Preocessing test data in_mem = True and infor: Default infor\n"
     ]
    },
    {
     "data": {
      "application/vnd.jupyter.widget-view+json": {
       "model_id": "6b73f7a0ab5c4ba390a64a37362ec616",
       "version_major": 2,
       "version_minor": 0
      },
      "text/plain": [
       "Prepare test dataset categories:   0%|          | 0/10 [00:00<?, ?it/s]"
      ]
     },
     "metadata": {},
     "output_type": "display_data"
    },
    {
     "name": "stdout",
     "output_type": "stream",
     "text": [
      "Train dataset size:  3991\n",
      "Test dataset size:  908\n",
      "Number of classes:  10\n",
      "Class:  bathtub\n"
     ]
    }
   ],
   "source": [
    "path = Path(\"./data/ModelNet10\")\n",
    "train_ds = ModelnetDataset(path, folder=\"train\", device=device_for_dataset) # Just put dataset in mem or GPU\n",
    "test_ds = ModelnetDataset(path, folder=\"test\", device=device_for_dataset) # Just put dataset in mem or GPU\n",
    "classes = {i: cat for cat, i in train_ds.classes.items()}\n",
    "\n",
    "print('Train dataset size: ', len(train_ds))\n",
    "print('Test dataset size: ', len(test_ds))\n",
    "print('Number of classes: ', len(train_ds.classes))\n",
    "print('Class: ', classes[train_ds[11]['category']])"
   ]
  },
  {
   "cell_type": "code",
   "execution_count": 5,
   "metadata": {},
   "outputs": [
    {
     "name": "stdout",
     "output_type": "stream",
     "text": [
      "{'bathtub': 106, 'bed': 515, 'chair': 889, 'desk': 200, 'dresser': 200, 'monitor': 465, 'night_stand': 200, 'sofa': 680, 'table': 392, 'toilet': 344}\n",
      "{'bathtub': 50, 'bed': 100, 'chair': 100, 'desk': 86, 'dresser': 86, 'monitor': 100, 'night_stand': 86, 'sofa': 100, 'table': 100, 'toilet': 100}\n"
     ]
    }
   ],
   "source": [
    "from collections import Counter\n",
    "print(dict(Counter(sample['category'] for sample in train_ds.files)))\n",
    "\n",
    "print(dict(Counter(sample['category'] for sample in test_ds.files)))\n",
    "\n"
   ]
  },
  {
   "cell_type": "code",
   "execution_count": 6,
   "metadata": {},
   "outputs": [],
   "source": [
    "batch_size = 256 #  \n",
    "epochs = 6000 #\n",
    "best_acc1 = 0\n",
    "start_epoch = 0\n"
   ]
  },
  {
   "cell_type": "code",
   "execution_count": 7,
   "metadata": {
    "collapsed": false,
    "jupyter": {
     "outputs_hidden": false
    }
   },
   "outputs": [],
   "source": [
    "train_loader = DataLoader(dataset=train_ds, batch_size=batch_size, shuffle=True)\n",
    "test_loader = DataLoader(dataset=test_ds, batch_size=batch_size, shuffle=True)\n"
   ]
  },
  {
   "cell_type": "code",
   "execution_count": 8,
   "metadata": {},
   "outputs": [
    {
     "name": "stdout",
     "output_type": "stream",
     "text": [
      "Num of model parameter: 138562\n",
      "=> loading checkpoint 'checkpoint/one4all/12-02/12-02-NO5950-one4allcheckpoint.pth.tar'\n",
      "=> loaded checkpoint 'checkpoint/one4all/12-02/12-02-NO5950-one4allcheckpoint.pth.tar' (epoch 5951)\n",
      "One4All(\n",
      "  (con_block): Sequential(\n",
      "    (0): Conv2d(1, 4, kernel_size=(5, 5), stride=(1, 1))\n",
      "    (1): ReLU()\n",
      "    (2): MaxPool2d(kernel_size=2, stride=2, padding=0, dilation=1, ceil_mode=False)\n",
      "    (3): Conv2d(4, 16, kernel_size=(5, 5), stride=(1, 1))\n",
      "    (4): ReLU()\n",
      "    (5): MaxPool2d(kernel_size=2, stride=2, padding=0, dilation=1, ceil_mode=False)\n",
      "  )\n",
      "  (fc): Sequential(\n",
      "    (0): Linear(in_features=400, out_features=256, bias=True)\n",
      "    (1): ReLU()\n",
      "    (2): Linear(in_features=256, out_features=128, bias=True)\n",
      "    (3): ReLU()\n",
      "    (4): Linear(in_features=128, out_features=10, bias=True)\n",
      "  )\n",
      ")\n"
     ]
    }
   ],
   "source": [
    "best_filename = 'checkpoint/one4all/12-03/best-one4allcheckpoint.pth.tar'\n",
    "\n",
    "gpu_computation = \"cuda:0\" if torch.cuda.is_available() else \"cpu\"\n",
    "\n",
    "model = One4All() \n",
    "# model = HyperNetwork(6)#\n",
    "model = model.to(gpu_computation)\n",
    "print(f'Num of model parameter: {count_parameters(model)}')\n",
    "loss_fn = nn.CrossEntropyLoss()\n",
    "optimizer = torch.optim.Adam(model.parameters(), lr=0.002, weight_decay = 1e-6)\n",
    "# optimizer = torch.optim.AdamW(model.parameters(), lr=0.004)\n",
    "# optimizer = torch.optim.SGD(model.parameters(), 0.001,\n",
    "#                                 momentum=0.9,\n",
    "#                                 weight_decay=1e-4\n",
    "#                            )\n",
    "\n",
    "# milestones = [30, 60, 150, 200]\n",
    "# lr_scheduler = torch.optim.lr_scheduler.MultiStepLR(optimizer=optimizer, milestones=milestones, gamma=0.5)\n",
    "lr_scheduler = torch.optim.lr_scheduler.CosineAnnealingLR(optimizer, T_max=epochs+6000, eta_min=5e-6)\n",
    "pr = PointcloudRender(              \n",
    "                 img_size=128,\n",
    "                 radius=0.0045,\n",
    "                 points_per_pixel=40)\n",
    "\n",
    "\n",
    "print(model)\n"
   ]
  },
  {
   "cell_type": "code",
   "execution_count": null,
   "metadata": {
    "collapsed": false,
    "jupyter": {
     "outputs_hidden": false
    }
   },
   "outputs": [],
   "source": [
    "torch.cuda.empty_cache()\n",
    "\n",
    "\n",
    "angles = torch.randint(-180, 180, (3,))/180*torch.pi\n",
    "\n",
    "\n",
    "for t in range(start_epoch, epochs):\n",
    "# for t in range(start_epoch, epochs):\n",
    "    print(60*\"=\"+f\"\\n Epoch: {t + 1} \\n\"+60*\"=\")\n",
    "    # angles = torch.randint(-180, 180, (3,))/180*torch.pi\n",
    "    \n",
    "    train_acc, train_loss= train(train_loader, model, loss_fn, optimizer, t, pr, device=gpu_computation)\n",
    "    test_acc, test_loss = test(test_loader, model, loss_fn, pr, device=gpu_computation, angles=angles)\n",
    "    writer.add_scalar(\"Loss/train\", train_loss, t)\n",
    "    writer.add_scalar(\"Accuracy/train\", train_acc, t)\n",
    "    \n",
    "    writer.add_scalar(\"Loss/test\", test_loss, t)\n",
    "    writer.add_scalar(\"Accuracy/test\", test_acc, t)\n",
    "    \n",
    "    is_best = test_acc > best_acc1\n",
    "    best_acc1 = max(test_acc, best_acc1)\n",
    "\n",
    "    if t%50 == 0:\n",
    "        save_checkpoint({\n",
    "        'epoch': t + 1,\n",
    "        'state_dict': model.state_dict(),\n",
    "        'best_acc1': best_acc1,\n",
    "        'optimizer': optimizer.state_dict(),\n",
    "        }, is_best,\n",
    "        filename= f'checkpoint/one4all/12-03/12-03-NO{t}-one4allcheckpoint.pth.tar', #saved_filename, #Todo add GPU and epoch information to the filename\n",
    "        best_filename = best_filename\n",
    "        )\n",
    "    writer.flush()\n",
    "    lr_scheduler.step()\n",
    "\n",
    "print(\"Done!\")\n",
    "writer.close()"
   ]
  },
  {
   "cell_type": "code",
   "execution_count": null,
   "metadata": {},
   "outputs": [],
   "source": []
  }
 ],
 "metadata": {
  "kernelspec": {
   "display_name": "Python 3 (ipykernel)",
   "language": "python",
   "name": "python3"
  },
  "language_info": {
   "codemirror_mode": {
    "name": "ipython",
    "version": 3
   },
   "file_extension": ".py",
   "mimetype": "text/x-python",
   "name": "python",
   "nbconvert_exporter": "python",
   "pygments_lexer": "ipython3",
   "version": "3.7.13 (default, Oct 18 2022, 18:57:03) \n[GCC 11.2.0]"
  },
  "vscode": {
   "interpreter": {
    "hash": "bc7966a0b335081e18a4ba2e77526939bcb1adcbb1531a61cdd4d776909711b3"
   }
  }
 },
 "nbformat": 4,
 "nbformat_minor": 4
}
